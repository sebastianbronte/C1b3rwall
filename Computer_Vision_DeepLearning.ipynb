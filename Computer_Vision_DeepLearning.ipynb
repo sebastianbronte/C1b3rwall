{
 "cells": [
  {
   "cell_type": "markdown",
   "metadata": {},
   "source": [
    "<h1>Computer Vision MOOC. Chapter III. Deep Learning</h1>\n",
    "<h2>Capabilities, Improvements, Object detection / Face Recognition example</h2>"
   ]
  },
  {
   "cell_type": "markdown",
   "metadata": {},
   "source": [
    "<p>Once the capabilities are exposed, there are benefits of doing some stuff directly on GPU without any extra work.</p>\n",
    "<p>More blablabla</p>"
   ]
  },
  {
   "cell_type": "markdown",
   "metadata": {},
   "source": [
    "There should be some overview of the evolution of the Deep Learning applied to CV from the begining to now.\n",
    "It would be nice to have some mentions to the most important CV publications and papers you could rely on, to give some ideas to get from."
   ]
  },
  {
   "cell_type": "code",
   "execution_count": 1,
   "metadata": {},
   "outputs": [],
   "source": [
    "#Some code should be here"
   ]
  },
  {
   "cell_type": "markdown",
   "metadata": {},
   "source": [
    "Some equations in there, if needed."
   ]
  },
  {
   "cell_type": "markdown",
   "metadata": {},
   "source": [
    "Some example images in here, as usual...."
   ]
  }
 ],
 "metadata": {
  "kernelspec": {
   "display_name": "Python 3",
   "language": "python",
   "name": "python3"
  },
  "language_info": {
   "codemirror_mode": {
    "name": "ipython",
    "version": 3
   },
   "file_extension": ".py",
   "mimetype": "text/x-python",
   "name": "python",
   "nbconvert_exporter": "python",
   "pygments_lexer": "ipython3",
   "version": "3.6.5"
  }
 },
 "nbformat": 4,
 "nbformat_minor": 2
}
